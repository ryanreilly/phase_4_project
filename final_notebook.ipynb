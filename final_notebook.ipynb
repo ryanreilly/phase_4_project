{
 "cells": [
  {
   "cell_type": "markdown",
   "metadata": {},
   "source": [
    "# Brands and Product Emotions\n",
    "\n",
    "**Authors:** Kevin McDonough, Brad Horn, Ryan Reilly"
   ]
  },
  {
   "cell_type": "markdown",
   "metadata": {},
   "source": [
    "![title](images/twitter_4.jpeg)"
   ]
  },
  {
   "cell_type": "markdown",
   "metadata": {},
   "source": [
    "## Overview\n",
    "\n",
    "This project analyzes data for over 9,000 tweets about product reviews for Apple and Google. Human raters rated the sentiment as positive, negative, or neither. The goal of this analysis is to build an NLP model that will accurately predict the sentiment of a tweet based on the tweets text. This will be done through exploratory data analysis and iterative predictive modeling using classification models. "
   ]
  },
  {
   "cell_type": "markdown",
   "metadata": {},
   "source": [
    "## Business Problem\n",
    "\n",
    "Apple and Google have hired us to predict the sentiment of tweets about theit products. They will use our analysis to gather critical feedback about problems in newly released products. Based on our analysis, we are going to provide reccomendations based on the following.\n",
    "\n",
    "- Which products to manage based on negative tweets\n",
    "- What people say most often about negative tweets\n",
    "- "
   ]
  },
  {
   "cell_type": "markdown",
   "metadata": {},
   "source": [
    "## Data Understanding\n",
    "\n",
    "Each row in this dataset represents a unique tweet made a by a user about an Apple or Google procduct. There are three columns in the dataset. Each feature and its description is listed below."
   ]
  },
  {
   "cell_type": "markdown",
   "metadata": {},
   "source": [
    "| Feature | Description|\n",
    "|:-------| :-------|\n",
    "|tweet_text| The full text of the tweet|\n",
    "|emotion_in_tweet_is_directed_at| The product the tweet is directed at|\n",
    "is_there_an_emotion_directed_at_a_brand_or_product| The sentiment label of the tweet in 4 classes (positive, negative, neutral, and I can't tell|"
   ]
  },
  {
   "cell_type": "markdown",
   "metadata": {},
   "source": [
    "#### Importing packages and loading the datasets"
   ]
  },
  {
   "cell_type": "code",
   "execution_count": 47,
   "metadata": {},
   "outputs": [],
   "source": [
    "#For data engineering\n",
    "import pandas as pd\n",
    "import numpy as np\n",
    "import re\n",
    "import string\n",
    "\n",
    "#For visualization\n",
    "import matplotlib.pyplot as plt\n",
    "import seaborn as sns\n",
    "import matplotlib as mpl\n",
    "%matplotlib inline\n",
    "\n",
    "#To scale and one-hot encode our columns\n",
    "from sklearn.preprocessing import LabelEncoder\n",
    "\n",
    "#To build all of our models\n",
    "from sklearn.linear_model import LogisticRegression\n",
    "from sklearn.ensemble import RandomForestClassifier\n",
    "from sklearn.naive_bayes import MultinomialNB\n",
    "\n",
    "# nltk\n",
    "import nltk\n",
    "from nltk.stem import WordNetLemmatizer\n",
    "from nltk import word_tokenize, sent_tokenize, FreqDist\n",
    "from nltk.corpus import stopwords\n",
    "from nltk.stem import WordNetLemmatizer\n",
    "from nltk.util import ngrams\n",
    "\n",
    "#For counting words\n",
    "import collections\n",
    "\n",
    "#For Vectorizing\n",
    "from sklearn.feature_extraction.text import CountVectorizer, TfidfVectorizer\n",
    "\n",
    "#Train test split, CV and Gridsearch\n",
    "from sklearn.model_selection import train_test_split, cross_val_score, GridSearchCV\n",
    "\n",
    "#To build our dummy model\n",
    "from sklearn.dummy import DummyClassifier\n",
    "\n",
    "#For evaluating our classification models\n",
    "from sklearn.metrics import plot_confusion_matrix\n",
    "from sklearn.metrics import confusion_matrix, accuracy_score, precision_score, recall_score, f1_score, classification_report \n",
    "from sklearn.metrics import plot_roc_curve\n",
    "\n",
    "#To apply oversampling for imbalanced dataset\n",
    "from imblearn.over_sampling import SMOTE\n",
    "\n",
    "#For building pipelines\n",
    "from imblearn.pipeline import Pipeline as Pipeline\n",
    "\n",
    "#to see how long a cell takes to run\n",
    "import time\n",
    "\n",
    "#Use the functions in the py file for preprocessing\n",
    "import sys\n",
    "#sys.path.insert(0, 'src/')\n",
    "#import preprocessing\n",
    "\n",
    "#To ignore warnings\n",
    "import warnings\n",
    "warnings.filterwarnings('ignore')\n",
    "\n",
    "#Stopwords\n",
    "stop_words = set(stopwords.words('english'))"
   ]
  },
  {
   "cell_type": "code",
   "execution_count": 5,
   "metadata": {},
   "outputs": [],
   "source": [
    "#Import the data\n",
    "df = pd.read_csv('data/tweets.csv')\n",
    "\n",
    "#Rename columns to get shorter clumn names\n",
    "df.rename(columns={\"tweet_text\": \"tweet\",\\\n",
    "                   \"emotion_in_tweet_is_directed_at\":\"product\",\\\n",
    "                   \"is_there_an_emotion_directed_at_a_brand_or_product\": \"sentiment\"},\\\n",
    "          inplace=True)"
   ]
  },
  {
   "cell_type": "code",
   "execution_count": 6,
   "metadata": {},
   "outputs": [
    {
     "name": "stdout",
     "output_type": "stream",
     "text": [
      "<class 'pandas.core.frame.DataFrame'>\n",
      "RangeIndex: 8721 entries, 0 to 8720\n",
      "Data columns (total 3 columns):\n",
      " #   Column     Non-Null Count  Dtype \n",
      "---  ------     --------------  ----- \n",
      " 0   tweet      8720 non-null   object\n",
      " 1   product    3169 non-null   object\n",
      " 2   sentiment  8721 non-null   object\n",
      "dtypes: object(3)\n",
      "memory usage: 204.5+ KB\n"
     ]
    }
   ],
   "source": [
    "#Take a look at the datatypes\n",
    "df.info()"
   ]
  },
  {
   "cell_type": "markdown",
   "metadata": {},
   "source": [
    "There looks to be nulls in the product column which we will have to deal with. We also may need to convert the tweet column to a string to be used for analysis."
   ]
  },
  {
   "cell_type": "code",
   "execution_count": 7,
   "metadata": {},
   "outputs": [
    {
     "data": {
      "text/html": [
       "<div>\n",
       "<style scoped>\n",
       "    .dataframe tbody tr th:only-of-type {\n",
       "        vertical-align: middle;\n",
       "    }\n",
       "\n",
       "    .dataframe tbody tr th {\n",
       "        vertical-align: top;\n",
       "    }\n",
       "\n",
       "    .dataframe thead th {\n",
       "        text-align: right;\n",
       "    }\n",
       "</style>\n",
       "<table border=\"1\" class=\"dataframe\">\n",
       "  <thead>\n",
       "    <tr style=\"text-align: right;\">\n",
       "      <th></th>\n",
       "      <th>sentiment</th>\n",
       "    </tr>\n",
       "  </thead>\n",
       "  <tbody>\n",
       "    <tr>\n",
       "      <th>No emotion toward brand or product</th>\n",
       "      <td>5156</td>\n",
       "    </tr>\n",
       "    <tr>\n",
       "      <th>Positive emotion</th>\n",
       "      <td>2869</td>\n",
       "    </tr>\n",
       "    <tr>\n",
       "      <th>Negative emotion</th>\n",
       "      <td>545</td>\n",
       "    </tr>\n",
       "    <tr>\n",
       "      <th>I can't tell</th>\n",
       "      <td>151</td>\n",
       "    </tr>\n",
       "  </tbody>\n",
       "</table>\n",
       "</div>"
      ],
      "text/plain": [
       "                                    sentiment\n",
       "No emotion toward brand or product       5156\n",
       "Positive emotion                         2869\n",
       "Negative emotion                          545\n",
       "I can't tell                              151"
      ]
     },
     "execution_count": 7,
     "metadata": {},
     "output_type": "execute_result"
    }
   ],
   "source": [
    "#Take a look at the outcome variable and its value counts\n",
    "df['sentiment'].value_counts().to_frame()"
   ]
  },
  {
   "cell_type": "markdown",
   "metadata": {},
   "source": [
    "THere are 4 classes for our target variable. There looks to be a good balance of no emotion(neutral) and postive tweets but there are few negative tweets so we will need to implement a re-sampling technique in our models. For those tweets that are labeld as I can't tell, we will remove these rows from the dataset for our analysis and modeling. "
   ]
  },
  {
   "cell_type": "markdown",
   "metadata": {},
   "source": [
    "## Data Preparation"
   ]
  },
  {
   "cell_type": "markdown",
   "metadata": {},
   "source": [
    "### Handle Missing Values"
   ]
  },
  {
   "cell_type": "code",
   "execution_count": 8,
   "metadata": {},
   "outputs": [
    {
     "data": {
      "text/html": [
       "<div>\n",
       "<style scoped>\n",
       "    .dataframe tbody tr th:only-of-type {\n",
       "        vertical-align: middle;\n",
       "    }\n",
       "\n",
       "    .dataframe tbody tr th {\n",
       "        vertical-align: top;\n",
       "    }\n",
       "\n",
       "    .dataframe thead th {\n",
       "        text-align: right;\n",
       "    }\n",
       "</style>\n",
       "<table border=\"1\" class=\"dataframe\">\n",
       "  <thead>\n",
       "    <tr style=\"text-align: right;\">\n",
       "      <th></th>\n",
       "      <th>Nulls</th>\n",
       "    </tr>\n",
       "    <tr>\n",
       "      <th>Feature</th>\n",
       "      <th></th>\n",
       "    </tr>\n",
       "  </thead>\n",
       "  <tbody>\n",
       "    <tr>\n",
       "      <th>sentiment</th>\n",
       "      <td>0</td>\n",
       "    </tr>\n",
       "    <tr>\n",
       "      <th>tweet</th>\n",
       "      <td>1</td>\n",
       "    </tr>\n",
       "    <tr>\n",
       "      <th>product</th>\n",
       "      <td>5552</td>\n",
       "    </tr>\n",
       "  </tbody>\n",
       "</table>\n",
       "</div>"
      ],
      "text/plain": [
       "           Nulls\n",
       "Feature         \n",
       "sentiment      0\n",
       "tweet          1\n",
       "product     5552"
      ]
     },
     "execution_count": 8,
     "metadata": {},
     "output_type": "execute_result"
    }
   ],
   "source": [
    "#Create a dataframe with just those columns with NAs and there sums.\n",
    "missing = pd.DataFrame(df.isna().sum(), columns = ['Nulls'])\n",
    "#Label index column\n",
    "missing.index.name = 'Feature'\n",
    "#Just show the columns with missing data    \n",
    "missing.sort_values(by=['Nulls'])"
   ]
  },
  {
   "cell_type": "markdown",
   "metadata": {},
   "source": [
    "#### We will remove the row with no tweet."
   ]
  },
  {
   "cell_type": "code",
   "execution_count": 9,
   "metadata": {},
   "outputs": [],
   "source": [
    "df = df[df['tweet'].notna()]"
   ]
  },
  {
   "cell_type": "markdown",
   "metadata": {},
   "source": [
    "#### Impute Product Column"
   ]
  },
  {
   "cell_type": "code",
   "execution_count": 12,
   "metadata": {},
   "outputs": [],
   "source": [
    "# Need to figure out a way to impute values in this column if possible"
   ]
  },
  {
   "cell_type": "markdown",
   "metadata": {},
   "source": [
    "### Check for row duplicates and remove"
   ]
  },
  {
   "cell_type": "code",
   "execution_count": 10,
   "metadata": {},
   "outputs": [
    {
     "name": "stdout",
     "output_type": "stream",
     "text": [
      "Number of duplicates: 22\n"
     ]
    }
   ],
   "source": [
    "print('Number of duplicates: {}'.format(len(df[df.duplicated()])))"
   ]
  },
  {
   "cell_type": "code",
   "execution_count": 11,
   "metadata": {},
   "outputs": [],
   "source": [
    "#Remove duplicates\n",
    "df.drop_duplicates(inplace=True)"
   ]
  },
  {
   "cell_type": "markdown",
   "metadata": {},
   "source": [
    "### Remove rows where the label is \"I cant tell\""
   ]
  },
  {
   "cell_type": "code",
   "execution_count": 14,
   "metadata": {},
   "outputs": [],
   "source": [
    "#Remove tweets with \"I can't tell\" sentiment\n",
    "df = df[df.sentiment != \"I can't tell\"]"
   ]
  },
  {
   "cell_type": "markdown",
   "metadata": {},
   "source": [
    "### Rename class lables"
   ]
  },
  {
   "cell_type": "code",
   "execution_count": 21,
   "metadata": {},
   "outputs": [],
   "source": [
    "df['sentiment'].replace({'No emotion toward brand or product': 'Nuetral', 'Positive emotion': 'Positive', 'Negative emotion': 'Negative'}, inplace=True)     "
   ]
  },
  {
   "cell_type": "markdown",
   "metadata": {},
   "source": [
    "# Feature Engineering"
   ]
  },
  {
   "cell_type": "code",
   "execution_count": null,
   "metadata": {},
   "outputs": [],
   "source": []
  },
  {
   "cell_type": "code",
   "execution_count": null,
   "metadata": {},
   "outputs": [],
   "source": []
  },
  {
   "cell_type": "markdown",
   "metadata": {},
   "source": [
    "# Exploratory Data Analysis"
   ]
  },
  {
   "cell_type": "markdown",
   "metadata": {},
   "source": [
    "#### What are the classes for the outcome ?"
   ]
  },
  {
   "cell_type": "code",
   "execution_count": 24,
   "metadata": {},
   "outputs": [
    {
     "data": {
      "image/png": "[encoded data removed]",
      "text/plain": [
       "<Figure size 432x288 with 1 Axes>"
      ]
     },
     "metadata": {
      "needs_background": "light"
     },
     "output_type": "display_data"
    }
   ],
   "source": [
    "fig, ax = plt.subplots()\n",
    "\n",
    "#Create x and y\n",
    "x = df['sentiment'].value_counts().index\n",
    "y = df['sentiment'].value_counts().values\n",
    "\n",
    "#Plot the barchart\n",
    "ax = sns.barplot(x,y)\n",
    "\n",
    "#Set title\n",
    "ax.set_title('Sentiment')\n",
    "\n",
    "plt.ticklabel_format(style = 'plain', axis = 'y')\n",
    "\n",
    "#This loop allows for lables on the bars\n",
    "for p in ax.patches:\n",
    " # get the height of each bar\n",
    " height = p.get_height()\n",
    " # adding text to each bar\n",
    " ax.text(x = p.get_x()+(p.get_width()/2), # x-coordinate position of data label, padded to be in the middle of the bar\n",
    " y = height+100, # y-coordinate position of data label, padded 100 above bar\n",
    " s = '{:.0f}'.format(height), # data label, formatted to ignore decimals\n",
    " ha = 'center') # sets horizontal alignment (ha) to center\n",
    "    \n",
    "plt.tight_layout()\n",
    "#fig.savefig('images/outcome_classes.png');"
   ]
  },
  {
   "cell_type": "markdown",
   "metadata": {},
   "source": [
    "#### How are the length of the tweets distributed?"
   ]
  },
  {
   "cell_type": "code",
   "execution_count": 26,
   "metadata": {},
   "outputs": [
    {
     "data": {
      "image/png": "[encoded data removed]",
      "text/plain": [
       "<Figure size 432x288 with 1 Axes>"
      ]
     },
     "metadata": {
      "needs_background": "light"
     },
     "output_type": "display_data"
    }
   ],
   "source": [
    "fig, ax = plt.subplots()\n",
    "\n",
    "ax = sns.histplot(df['tweet'].str.len(), bins=10)\n",
    "\n",
    "plt.tight_layout()\n",
    "#fig.savefig('images/character_hist.png');"
   ]
  },
  {
   "cell_type": "markdown",
   "metadata": {},
   "source": [
    "#### How many words are in the tweets?"
   ]
  },
  {
   "cell_type": "code",
   "execution_count": 27,
   "metadata": {},
   "outputs": [
    {
     "data": {
      "image/png": "[encoded data removed]",
      "text/plain": [
       "<Figure size 432x288 with 1 Axes>"
      ]
     },
     "metadata": {
      "needs_background": "light"
     },
     "output_type": "display_data"
    }
   ],
   "source": [
    "fig, ax = plt.subplots()\n",
    "\n",
    "ax = sns.histplot(df['tweet'].str.split().map(lambda x: len(x)), bins=10)\n",
    "\n",
    "plt.tight_layout()\n",
    "#fig.savefig('images/word_hist.png');"
   ]
  },
  {
   "cell_type": "markdown",
   "metadata": {},
   "source": [
    "#### What are the most common stop words?"
   ]
  },
  {
   "cell_type": "code",
   "execution_count": 30,
   "metadata": {},
   "outputs": [
    {
     "data": {
      "image/png": "[encoded data removed]",
      "text/plain": [
       "<Figure size 432x288 with 1 Axes>"
      ]
     },
     "metadata": {
      "needs_background": "light"
     },
     "output_type": "display_data"
    }
   ],
   "source": [
    "fig, ax = plt.subplots()\n",
    "\n",
    "df['tweet'] = df['tweet'].astype(str)\n",
    "\n",
    "corpus=[]\n",
    "new= df['tweet'].str.split()\n",
    "new=new.values.tolist()\n",
    "corpus=[word for i in new for word in i]\n",
    "\n",
    "from collections import defaultdict\n",
    "\n",
    "dic=defaultdict(int)\n",
    "for word in corpus:\n",
    "    if word in stop_words:\n",
    "        dic[word]+=1\n",
    "        \n",
    "top25 = sorted(dic.items(), key=lambda item: item[1], reverse=True)[:20]\n",
    "\n",
    "y_val = [x[0] for x in top25]\n",
    "x_val = [x[1] for x in top25]\n",
    "\n",
    "ax = sns.barplot(x_val,y_val, orient='h')\n",
    "ax = ax.set_title('Top 20 Stop Words Used')\n",
    "\n",
    "plt.tight_layout()\n",
    "#fig.savefig('images/stopwords.png');"
   ]
  },
  {
   "cell_type": "code",
   "execution_count": null,
   "metadata": {},
   "outputs": [],
   "source": []
  },
  {
   "cell_type": "code",
   "execution_count": null,
   "metadata": {},
   "outputs": [],
   "source": []
  },
  {
   "cell_type": "markdown",
   "metadata": {},
   "source": [
    "# Preprocess for modeling"
   ]
  },
  {
   "cell_type": "code",
   "execution_count": 37,
   "metadata": {},
   "outputs": [],
   "source": [
    "df['tweet'] = df['tweet'].astype(str)"
   ]
  },
  {
   "cell_type": "code",
   "execution_count": 38,
   "metadata": {},
   "outputs": [],
   "source": [
    "def preprocess_tweet_text(tweet):\n",
    "    # Lowercase\n",
    "    tweet = tweet.lower()\n",
    "    # Remove urls\n",
    "    tweet = re.sub(r\"http\\S+|www\\S+|https\\S+\", '', tweet, flags=re.MULTILINE)\n",
    "    # Remove user @ references and '#' from tweet\n",
    "    tweet = re.sub(r'\\@\\w+|\\#','', tweet)\n",
    "    # Remove punctuations\n",
    "    tweet = tweet.translate(str.maketrans('', '', string.punctuation))\n",
    "    # Remove stopwords\n",
    "    tweet_tokens = word_tokenize(tweet)\n",
    "    filtered_words = [w for w in tweet_tokens if not w in stop_words]\n",
    "    # Lemmatize\n",
    "    lemmatizer = WordNetLemmatizer()\n",
    "    lemma_words = [lemmatizer.lemmatize(w, pos='a') for w in filtered_words]\n",
    "    #Return the words joined back together\n",
    "    return \" \".join(lemma_words)"
   ]
  },
  {
   "cell_type": "code",
   "execution_count": 42,
   "metadata": {},
   "outputs": [],
   "source": [
    "df['tweet'] = df['tweet'].apply(preprocess_tweet_text)"
   ]
  },
  {
   "cell_type": "markdown",
   "metadata": {},
   "source": [
    "## Vectorize"
   ]
  },
  {
   "cell_type": "code",
   "execution_count": 43,
   "metadata": {},
   "outputs": [],
   "source": [
    "# Convert string labels to 0,1,2\n",
    "le = LabelEncoder()\n",
    "df['target'] = le.fit_transform(df['sentiment'])"
   ]
  },
  {
   "cell_type": "code",
   "execution_count": 44,
   "metadata": {},
   "outputs": [],
   "source": [
    "# Separate features and labels \n",
    "X = df['tweet']\n",
    "y = df['target']"
   ]
  },
  {
   "cell_type": "code",
   "execution_count": 45,
   "metadata": {},
   "outputs": [],
   "source": [
    "# Create test and train datasets\n",
    "X_train, X_test, y_train, y_test = train_test_split(X, y, test_size = 0.3, random_state=1)"
   ]
  },
  {
   "cell_type": "code",
   "execution_count": 48,
   "metadata": {},
   "outputs": [],
   "source": [
    "#Instantiate TFIDF vectorizer\n",
    "vectorizer = TfidfVectorizer()\n",
    "#Fit transform training data\n",
    "tf_idf_train = vectorizer.fit_transform(X_train)\n",
    "#Transform test data\n",
    "tf_idf_test = vectorizer.transform(X_test)"
   ]
  },
  {
   "cell_type": "markdown",
   "metadata": {},
   "source": [
    "# Modeling"
   ]
  },
  {
   "cell_type": "markdown",
   "metadata": {},
   "source": [
    "### Dummy Model"
   ]
  },
  {
   "cell_type": "code",
   "execution_count": 49,
   "metadata": {},
   "outputs": [
    {
     "data": {
      "image/png": "[encoded data removed]",
      "text/plain": [
       "<Figure size 432x288 with 2 Axes>"
      ]
     },
     "metadata": {
      "needs_background": "light"
     },
     "output_type": "display_data"
    }
   ],
   "source": [
    "plot_confusion_matrix(DummyClassifier(strategy=\"most_frequent\").fit(tf_idf_train , y_train), tf_idf_test, y_test, xticks_rotation='vertical', normalize = 'all', display_labels = ['negative', 'neutral', 'positive']);"
   ]
  },
  {
   "cell_type": "markdown",
   "metadata": {},
   "source": [
    "### Baseline - FSM Model"
   ]
  },
  {
   "cell_type": "code",
   "execution_count": 51,
   "metadata": {},
   "outputs": [],
   "source": [
    "rf = RandomForestClassifier(random_state=42)\n",
    "#fit on training data\n",
    "rf.fit(tf_idf_train, y_train)\n",
    "#get predictions\n",
    "y_preds_train = rf.predict(tf_idf_train)\n",
    "y_preds_test = rf.predict(tf_idf_test)"
   ]
  },
  {
   "cell_type": "markdown",
   "metadata": {},
   "source": [
    "#### Training Predictions"
   ]
  },
  {
   "cell_type": "code",
   "execution_count": 52,
   "metadata": {},
   "outputs": [
    {
     "data": {
      "image/png": "[encoded data removed]",
      "text/plain": [
       "<Figure size 432x288 with 2 Axes>"
      ]
     },
     "metadata": {
      "needs_background": "light"
     },
     "output_type": "display_data"
    }
   ],
   "source": [
    "plot_confusion_matrix(rf, tf_idf_train, y_train, xticks_rotation='vertical', normalize='all', display_labels = ['negative', 'neutral', 'positive']);"
   ]
  },
  {
   "cell_type": "markdown",
   "metadata": {},
   "source": [
    "#### Testing Predictions"
   ]
  },
  {
   "cell_type": "code",
   "execution_count": 53,
   "metadata": {},
   "outputs": [
    {
     "data": {
      "image/png": "[encoded data removed]",
      "text/plain": [
       "<Figure size 432x288 with 2 Axes>"
      ]
     },
     "metadata": {
      "needs_background": "light"
     },
     "output_type": "display_data"
    }
   ],
   "source": [
    "plot_confusion_matrix(rf, tf_idf_test, y_test, xticks_rotation='vertical', normalize='all', display_labels = ['negative', 'neutral', 'positive']);"
   ]
  },
  {
   "cell_type": "markdown",
   "metadata": {},
   "source": [
    "### More models using Hyperparameter Tuning and Pipelines"
   ]
  },
  {
   "cell_type": "code",
   "execution_count": 54,
   "metadata": {},
   "outputs": [],
   "source": [
    "# Naive Bayes pipeline setup\n",
    "nb_pipe = Pipeline([\n",
    " ('tvec', TfidfVectorizer()),\n",
    " ('SMOTE',SMOTE(sampling_strategy = 'minority', random_state=42)),\n",
    " ('mnb', MultinomialNB())\n",
    "])\n",
    "\n",
    "# Randomforest pipeline setup\n",
    "rf_pipe = Pipeline([\n",
    " ('tvec', TfidfVectorizer()),\n",
    " ('SMOTE', SMOTE(sampling_strategy = 'minority', random_state=42)),\n",
    " ('rf', RandomForestClassifier())\n",
    "])\n",
    "\n",
    "# Fit\n",
    "nb_pipe.fit(X_train, y_train)\n",
    "rf_pipe.fit(X_train, y_train)\n",
    "\n",
    "# Setting params for TFIDF Vectorizer gridsearch\n",
    "nb_params = {\n",
    " 'tvec__max_features':[100, 500, 1000, 2000],\n",
    " 'tvec__ngram_range': [(1, 1), (1, 2), (2, 2)],\n",
    " 'tvec__stop_words': ['english']\n",
    "}\n",
    "\n",
    "# Setting up randomforest params\n",
    "rf_params = {\n",
    " 'tvec__max_features':[500, 1000, 2000],\n",
    " 'tvec__ngram_range': [(1, 1), (1, 2), (2, 2)],\n",
    " 'tvec__stop_words': ['english'],\n",
    " 'rf__max_depth': [500, 1000],\n",
    " 'rf__min_samples_split': [50,100]\n",
    "}"
   ]
  },
  {
   "cell_type": "code",
   "execution_count": 55,
   "metadata": {},
   "outputs": [
    {
     "name": "stdout",
     "output_type": "stream",
     "text": [
      "Fitting 5 folds for each of 12 candidates, totalling 60 fits\n"
     ]
    },
    {
     "name": "stderr",
     "output_type": "stream",
     "text": [
      "[Parallel(n_jobs=-1)]: Using backend LokyBackend with 8 concurrent workers.\n",
      "[Parallel(n_jobs=-1)]: Done  34 tasks      | elapsed:    2.6s\n",
      "[Parallel(n_jobs=-1)]: Done  60 out of  60 | elapsed:    3.2s finished\n",
      "[Parallel(n_jobs=-1)]: Using backend LokyBackend with 8 concurrent workers.\n"
     ]
    },
    {
     "name": "stdout",
     "output_type": "stream",
     "text": [
      "Fitting 5 folds for each of 36 candidates, totalling 180 fits\n"
     ]
    },
    {
     "name": "stderr",
     "output_type": "stream",
     "text": [
      "[Parallel(n_jobs=-1)]: Done  34 tasks      | elapsed:    8.9s\n",
      "[Parallel(n_jobs=-1)]: Done 180 out of 180 | elapsed:   40.5s finished\n"
     ]
    },
    {
     "name": "stdout",
     "output_type": "stream",
     "text": [
      "Time it took to run the fittings: 45 seconds\n"
     ]
    }
   ],
   "source": [
    "start = time.time()\n",
    "\n",
    "# Setting up GridSearch for Randomforest\n",
    "rf_gs = GridSearchCV(rf_pipe, \n",
    "                     param_grid=rf_params, \n",
    "                     cv = 5, \n",
    "                     verbose = 1, \n",
    "                     n_jobs = -1)\n",
    "\n",
    "# Setting up GridSearch for NB\n",
    "nb_gs = GridSearchCV(nb_pipe, \n",
    "                     param_grid=nb_params, \n",
    "                     cv = 5, \n",
    "                     verbose =1, \n",
    "                     n_jobs = -1)\n",
    "\n",
    "# Fitting NB GS\n",
    "nb_gs.fit(X_train, y_train)\n",
    "\n",
    "# Fitting Randomforest\n",
    "rf_gs.fit(X_train, y_train)\n",
    "\n",
    "end = time.time()\n",
    "print('Time it took to run the fittings: {}'.format(round(end-start),0) + ' seconds')"
   ]
  },
  {
   "cell_type": "code",
   "execution_count": 56,
   "metadata": {},
   "outputs": [
    {
     "name": "stdout",
     "output_type": "stream",
     "text": [
      "Training score for Naive Bayes: 0.6965897693079238\n",
      "Testing score for Naive Bayes: 0.5894736842105263\n",
      "Training score for Random Forest: 0.9277833500501504\n",
      "Testing score for Random Forest: 0.6651072124756335\n"
     ]
    }
   ],
   "source": [
    "# Scoring Training data on NB\n",
    "print('Training score for Naive Bayes: {}'.format(nb_gs.score(X_train, y_train)))\n",
    "\n",
    "# Scoring Test data on NB\n",
    "print('Testing score for Naive Bayes: {}'.format(nb_gs.score(X_test, y_test)))\n",
    "\n",
    "# Scoring Training data on RandomForest\n",
    "print('Training score for Random Forest: {}'.format(rf_gs.score(X_train, y_train)))\n",
    "\n",
    "# Checking Test score on RandomForest\n",
    "print('Testing score for Random Forest: {}'.format(rf_gs.score(X_test, y_test)))"
   ]
  },
  {
   "cell_type": "markdown",
   "metadata": {},
   "source": [
    "# Final Model Evaluation"
   ]
  },
  {
   "cell_type": "code",
   "execution_count": 57,
   "metadata": {
    "scrolled": true
   },
   "outputs": [
    {
     "data": {
      "image/png": "[encoded data removed]",
      "text/plain": [
       "<Figure size 432x288 with 2 Axes>"
      ]
     },
     "metadata": {
      "needs_background": "light"
     },
     "output_type": "display_data"
    }
   ],
   "source": [
    "plot_confusion_matrix(rf_gs, X_test, y_test, xticks_rotation='vertical', normalize='all', display_labels = ['negative', 'neutral', 'positive']);"
   ]
  },
  {
   "cell_type": "code",
   "execution_count": null,
   "metadata": {},
   "outputs": [],
   "source": []
  },
  {
   "cell_type": "markdown",
   "metadata": {},
   "source": [
    "### Feature importance"
   ]
  },
  {
   "cell_type": "code",
   "execution_count": 105,
   "metadata": {
    "scrolled": true
   },
   "outputs": [
    {
     "data": {
      "text/html": [
       "<div>\n",
       "<style scoped>\n",
       "    .dataframe tbody tr th:only-of-type {\n",
       "        vertical-align: middle;\n",
       "    }\n",
       "\n",
       "    .dataframe tbody tr th {\n",
       "        vertical-align: top;\n",
       "    }\n",
       "\n",
       "    .dataframe thead th {\n",
       "        text-align: right;\n",
       "    }\n",
       "</style>\n",
       "<table border=\"1\" class=\"dataframe\">\n",
       "  <thead>\n",
       "    <tr style=\"text-align: right;\">\n",
       "      <th></th>\n",
       "      <th>importance</th>\n",
       "    </tr>\n",
       "  </thead>\n",
       "  <tbody>\n",
       "    <tr>\n",
       "      <th>link</th>\n",
       "      <td>0.026237</td>\n",
       "    </tr>\n",
       "    <tr>\n",
       "      <th>sxsw</th>\n",
       "      <td>0.019057</td>\n",
       "    </tr>\n",
       "    <tr>\n",
       "      <th>iphone</th>\n",
       "      <td>0.018319</td>\n",
       "    </tr>\n",
       "    <tr>\n",
       "      <th>ipad</th>\n",
       "      <td>0.016824</td>\n",
       "    </tr>\n",
       "    <tr>\n",
       "      <th>rt</th>\n",
       "      <td>0.014462</td>\n",
       "    </tr>\n",
       "    <tr>\n",
       "      <th>apple</th>\n",
       "      <td>0.010283</td>\n",
       "    </tr>\n",
       "    <tr>\n",
       "      <th>google</th>\n",
       "      <td>0.009418</td>\n",
       "    </tr>\n",
       "    <tr>\n",
       "      <th>app</th>\n",
       "      <td>0.008620</td>\n",
       "    </tr>\n",
       "    <tr>\n",
       "      <th>new</th>\n",
       "      <td>0.006813</td>\n",
       "    </tr>\n",
       "    <tr>\n",
       "      <th>store</th>\n",
       "      <td>0.006797</td>\n",
       "    </tr>\n",
       "  </tbody>\n",
       "</table>\n",
       "</div>"
      ],
      "text/plain": [
       "        importance\n",
       "link      0.026237\n",
       "sxsw      0.019057\n",
       "iphone    0.018319\n",
       "ipad      0.016824\n",
       "rt        0.014462\n",
       "apple     0.010283\n",
       "google    0.009418\n",
       "app       0.008620\n",
       "new       0.006813\n",
       "store     0.006797"
      ]
     },
     "execution_count": 105,
     "metadata": {},
     "output_type": "execute_result"
    }
   ],
   "source": [
    "#Find importances\n",
    "title = pd.DataFrame(rf_pipe.steps[2][1].feature_importances_, rf_pipe.steps[0][1].get_feature_names(), columns=['importance'])\n",
    "title = title.sort_values('importance', ascending = False).head(10)\n",
    "title"
   ]
  },
  {
   "cell_type": "code",
   "execution_count": 104,
   "metadata": {},
   "outputs": [
    {
     "data": {
      "image/png": "[encoded data removed]",
      "text/plain": [
       "<Figure size 432x288 with 1 Axes>"
      ]
     },
     "metadata": {
      "needs_background": "light"
     },
     "output_type": "display_data"
    }
   ],
   "source": [
    "fig, ax = plt.subplots()\n",
    "\n",
    "y = [x for x in title.index]\n",
    "x = [y for i in title.values for y in i]\n",
    "\n",
    "ax = sns.barplot(x, y, orient = 'h')\n",
    "ax = ax.set_title('Top 10 features')\n",
    "\n",
    "plt.tight_layout()\n",
    "#fig.savefig('images/feature_importance.png');"
   ]
  },
  {
   "cell_type": "markdown",
   "metadata": {},
   "source": [
    "# Conclusions"
   ]
  },
  {
   "cell_type": "markdown",
   "metadata": {},
   "source": [
    "**1. 1st conclusion .**  \n",
    "\n",
    "**2. 2nd conclusion.** \n",
    "\n",
    "**3. 3rd conclusion.** "
   ]
  },
  {
   "cell_type": "markdown",
   "metadata": {},
   "source": [
    "# Next Steps"
   ]
  },
  {
   "cell_type": "markdown",
   "metadata": {},
   "source": [
    "Further analyses could provide even more insight into how we can predict the sentiment of tweets: \n",
    "\n",
    "**Next step** \n",
    "\n",
    "**Next step** \n",
    "\n",
    "**Next step** "
   ]
  },
  {
   "cell_type": "code",
   "execution_count": null,
   "metadata": {},
   "outputs": [],
   "source": []
  }
 ],
 "metadata": {
  "kernelspec": {
   "display_name": "Python (learn-env)",
   "language": "python",
   "name": "learn-env"
  },
  "language_info": {
   "codemirror_mode": {
    "name": "ipython",
    "version": 3
   },
   "file_extension": ".py",
   "mimetype": "text/x-python",
   "name": "python",
   "nbconvert_exporter": "python",
   "pygments_lexer": "ipython3",
   "version": "3.8.5"
  }
 },
 "nbformat": 4,
 "nbformat_minor": 4
}
